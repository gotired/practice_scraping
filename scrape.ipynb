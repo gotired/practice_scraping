{
 "cells": [
  {
   "cell_type": "markdown",
   "metadata": {},
   "source": [
    "# Practice Web Scraping"
   ]
  },
  {
   "cell_type": "markdown",
   "metadata": {},
   "source": [
    "practicing follows this columns \n",
    "\n",
    "[link](https://medium.com/@spaw.co/best-websites-to-practice-web-scraping-9df5d4df4d1)"
   ]
  },
  {
   "cell_type": "markdown",
   "metadata": {},
   "source": [
    "## Import Library"
   ]
  },
  {
   "cell_type": "code",
   "execution_count": 1,
   "metadata": {},
   "outputs": [],
   "source": [
    "# %pip install beautifulsoup4 pandas"
   ]
  },
  {
   "cell_type": "code",
   "execution_count": 2,
   "metadata": {},
   "outputs": [],
   "source": [
    "import requests\n",
    "from bs4 import BeautifulSoup\n",
    "import pandas as pd"
   ]
  },
  {
   "cell_type": "markdown",
   "metadata": {},
   "source": [
    "## 1. Books to Scrape"
   ]
  },
  {
   "cell_type": "code",
   "execution_count": 3,
   "metadata": {},
   "outputs": [],
   "source": [
    "book_url = \"https://books.toscrape.com/\""
   ]
  },
  {
   "cell_type": "markdown",
   "metadata": {},
   "source": [
    "### Extract Categories"
   ]
  },
  {
   "cell_type": "code",
   "execution_count": 5,
   "metadata": {},
   "outputs": [],
   "source": [
    "book_data = requests.get(book_url)\n",
    "soup = BeautifulSoup(book_data.content, \"html.parser\")"
   ]
  },
  {
   "cell_type": "code",
   "execution_count": 6,
   "metadata": {},
   "outputs": [],
   "source": [
    "categories = soup.find(\"ul\", \"nav nav-list\").find(\"ul\").find_all(\"li\")"
   ]
  },
  {
   "cell_type": "code",
   "execution_count": 7,
   "metadata": {},
   "outputs": [],
   "source": [
    "list_categories = []\n",
    "for cat in categories:\n",
    "    list_categories.append(\n",
    "        {\n",
    "            \"link\" : cat.find(\"a\").get(\"href\"),\n",
    "            \"name\" : cat.get_text(strip=True)\n",
    "        }\n",
    "    )"
   ]
  },
  {
   "cell_type": "code",
   "execution_count": 8,
   "metadata": {},
   "outputs": [],
   "source": [
    "categories_df = pd.DataFrame(list_categories)"
   ]
  },
  {
   "cell_type": "code",
   "execution_count": 9,
   "metadata": {},
   "outputs": [
    {
     "data": {
      "text/html": [
       "<div>\n",
       "<style scoped>\n",
       "    .dataframe tbody tr th:only-of-type {\n",
       "        vertical-align: middle;\n",
       "    }\n",
       "\n",
       "    .dataframe tbody tr th {\n",
       "        vertical-align: top;\n",
       "    }\n",
       "\n",
       "    .dataframe thead th {\n",
       "        text-align: right;\n",
       "    }\n",
       "</style>\n",
       "<table border=\"1\" class=\"dataframe\">\n",
       "  <thead>\n",
       "    <tr style=\"text-align: right;\">\n",
       "      <th></th>\n",
       "      <th>link</th>\n",
       "      <th>name</th>\n",
       "    </tr>\n",
       "  </thead>\n",
       "  <tbody>\n",
       "    <tr>\n",
       "      <th>0</th>\n",
       "      <td>catalogue/category/books/travel_2/index.html</td>\n",
       "      <td>Travel</td>\n",
       "    </tr>\n",
       "    <tr>\n",
       "      <th>1</th>\n",
       "      <td>catalogue/category/books/mystery_3/index.html</td>\n",
       "      <td>Mystery</td>\n",
       "    </tr>\n",
       "    <tr>\n",
       "      <th>2</th>\n",
       "      <td>catalogue/category/books/historical-fiction_4/...</td>\n",
       "      <td>Historical Fiction</td>\n",
       "    </tr>\n",
       "    <tr>\n",
       "      <th>3</th>\n",
       "      <td>catalogue/category/books/sequential-art_5/inde...</td>\n",
       "      <td>Sequential Art</td>\n",
       "    </tr>\n",
       "    <tr>\n",
       "      <th>4</th>\n",
       "      <td>catalogue/category/books/classics_6/index.html</td>\n",
       "      <td>Classics</td>\n",
       "    </tr>\n",
       "  </tbody>\n",
       "</table>\n",
       "</div>"
      ],
      "text/plain": [
       "                                                link                name\n",
       "0       catalogue/category/books/travel_2/index.html              Travel\n",
       "1      catalogue/category/books/mystery_3/index.html             Mystery\n",
       "2  catalogue/category/books/historical-fiction_4/...  Historical Fiction\n",
       "3  catalogue/category/books/sequential-art_5/inde...      Sequential Art\n",
       "4     catalogue/category/books/classics_6/index.html            Classics"
      ]
     },
     "execution_count": 9,
     "metadata": {},
     "output_type": "execute_result"
    }
   ],
   "source": [
    "categories_df.head()"
   ]
  },
  {
   "cell_type": "markdown",
   "metadata": {},
   "source": [
    "### Extract Books"
   ]
  },
  {
   "cell_type": "code",
   "execution_count": 10,
   "metadata": {},
   "outputs": [],
   "source": [
    "list_books = []\n",
    "for category in list_categories:\n",
    "    endpoint = category[\"link\"]\n",
    "    book_per_page = 20\n",
    "    page = 1\n",
    "    while book_per_page == 20:\n",
    "        page_endpoint = (\n",
    "            endpoint if page == 1 else endpoint.replace(\"index\", f\"page-{page}\")\n",
    "        )\n",
    "        book_data = requests.get(f\"{book_url}/{page_endpoint}\")\n",
    "        if book_data.status_code == 200:\n",
    "            soup = BeautifulSoup(book_data.content, \"html.parser\")\n",
    "            books = soup.find(\"section\").find_all(\"li\")\n",
    "            list_book_in_page = []\n",
    "            for book in books:\n",
    "                if book.find(\"div\", \"image_container\"):\n",
    "                    list_book_in_page.append(\n",
    "                        {\n",
    "                            \"image\": book.find(\"div\", \"image_container\")\n",
    "                            .find(\"img\")\n",
    "                            .get(\"src\"),\n",
    "                            \"star\": book.find(\"p\", \"star-rating\").get(\"class\")[1],\n",
    "                            \"title\": book.find(\"h3\").find(\"a\").get(\"title\"),\n",
    "                            \"price\": book.find(\"div\", \"product_price\")\n",
    "                            .find(\"p\", \"price_color\")\n",
    "                            .text,\n",
    "                            \"availability\": book.find(\"div\", \"product_price\")\n",
    "                            .find(\"p\", \"instock availability\")\n",
    "                            .find(\"i\")\n",
    "                            .get(\"class\")[0]\n",
    "                            .split(\"-\")[-1],\n",
    "                            \"category\": category[\"name\"],\n",
    "                            \"page\": page,\n",
    "                        }\n",
    "                    )\n",
    "            list_books.extend(list_book_in_page)\n",
    "            book_per_page = len(list_book_in_page)\n",
    "            page += 1\n",
    "        else:\n",
    "            continue"
   ]
  },
  {
   "cell_type": "code",
   "execution_count": 11,
   "metadata": {},
   "outputs": [],
   "source": [
    "books_df = pd.DataFrame(list_books)"
   ]
  },
  {
   "cell_type": "code",
   "execution_count": 12,
   "metadata": {},
   "outputs": [
    {
     "data": {
      "text/html": [
       "<div>\n",
       "<style scoped>\n",
       "    .dataframe tbody tr th:only-of-type {\n",
       "        vertical-align: middle;\n",
       "    }\n",
       "\n",
       "    .dataframe tbody tr th {\n",
       "        vertical-align: top;\n",
       "    }\n",
       "\n",
       "    .dataframe thead th {\n",
       "        text-align: right;\n",
       "    }\n",
       "</style>\n",
       "<table border=\"1\" class=\"dataframe\">\n",
       "  <thead>\n",
       "    <tr style=\"text-align: right;\">\n",
       "      <th></th>\n",
       "      <th>image</th>\n",
       "      <th>star</th>\n",
       "      <th>title</th>\n",
       "      <th>price</th>\n",
       "      <th>availability</th>\n",
       "      <th>category</th>\n",
       "      <th>page</th>\n",
       "    </tr>\n",
       "  </thead>\n",
       "  <tbody>\n",
       "    <tr>\n",
       "      <th>0</th>\n",
       "      <td>../../../../media/cache/27/a5/27a53d0bb95bdd88...</td>\n",
       "      <td>Two</td>\n",
       "      <td>It's Only the Himalayas</td>\n",
       "      <td>£45.17</td>\n",
       "      <td>ok</td>\n",
       "      <td>Travel</td>\n",
       "      <td>1</td>\n",
       "    </tr>\n",
       "    <tr>\n",
       "      <th>1</th>\n",
       "      <td>../../../../media/cache/57/77/57770cac1628f440...</td>\n",
       "      <td>Four</td>\n",
       "      <td>Full Moon over Noah’s Ark: An Odyssey to Mount...</td>\n",
       "      <td>£49.43</td>\n",
       "      <td>ok</td>\n",
       "      <td>Travel</td>\n",
       "      <td>1</td>\n",
       "    </tr>\n",
       "    <tr>\n",
       "      <th>2</th>\n",
       "      <td>../../../../media/cache/9a/7e/9a7e63f12829df4b...</td>\n",
       "      <td>Three</td>\n",
       "      <td>See America: A Celebration of Our National Par...</td>\n",
       "      <td>£48.87</td>\n",
       "      <td>ok</td>\n",
       "      <td>Travel</td>\n",
       "      <td>1</td>\n",
       "    </tr>\n",
       "    <tr>\n",
       "      <th>3</th>\n",
       "      <td>../../../../media/cache/d5/bf/d5bf0090470b0b8e...</td>\n",
       "      <td>Two</td>\n",
       "      <td>Vagabonding: An Uncommon Guide to the Art of L...</td>\n",
       "      <td>£36.94</td>\n",
       "      <td>ok</td>\n",
       "      <td>Travel</td>\n",
       "      <td>1</td>\n",
       "    </tr>\n",
       "    <tr>\n",
       "      <th>4</th>\n",
       "      <td>../../../../media/cache/98/c2/98c2e95c5fd1a4e7...</td>\n",
       "      <td>Three</td>\n",
       "      <td>Under the Tuscan Sun</td>\n",
       "      <td>£37.33</td>\n",
       "      <td>ok</td>\n",
       "      <td>Travel</td>\n",
       "      <td>1</td>\n",
       "    </tr>\n",
       "  </tbody>\n",
       "</table>\n",
       "</div>"
      ],
      "text/plain": [
       "                                               image   star  \\\n",
       "0  ../../../../media/cache/27/a5/27a53d0bb95bdd88...    Two   \n",
       "1  ../../../../media/cache/57/77/57770cac1628f440...   Four   \n",
       "2  ../../../../media/cache/9a/7e/9a7e63f12829df4b...  Three   \n",
       "3  ../../../../media/cache/d5/bf/d5bf0090470b0b8e...    Two   \n",
       "4  ../../../../media/cache/98/c2/98c2e95c5fd1a4e7...  Three   \n",
       "\n",
       "                                               title   price availability  \\\n",
       "0                            It's Only the Himalayas  £45.17           ok   \n",
       "1  Full Moon over Noah’s Ark: An Odyssey to Mount...  £49.43           ok   \n",
       "2  See America: A Celebration of Our National Par...  £48.87           ok   \n",
       "3  Vagabonding: An Uncommon Guide to the Art of L...  £36.94           ok   \n",
       "4                               Under the Tuscan Sun  £37.33           ok   \n",
       "\n",
       "  category  page  \n",
       "0   Travel     1  \n",
       "1   Travel     1  \n",
       "2   Travel     1  \n",
       "3   Travel     1  \n",
       "4   Travel     1  "
      ]
     },
     "execution_count": 12,
     "metadata": {},
     "output_type": "execute_result"
    }
   ],
   "source": [
    "books_df.head()"
   ]
  },
  {
   "cell_type": "code",
   "execution_count": null,
   "metadata": {},
   "outputs": [],
   "source": [
    "def extract_tag_content(tag):\n",
    "    if not tag.contents:  # Base case: no child elements\n",
    "        return None\n",
    "\n",
    "    result = []\n",
    "    for child in tag.contents:\n",
    "        if child.name:  # Only process elements with a tag name\n",
    "            result.append({\n",
    "                \"tag\": child.name,\n",
    "                \"content\": extract_tag_content(child),  # Recursively process child elements\n",
    "                \"attributes\": child.attrs,\n",
    "                \"text\": child.get_text(strip=True) if child.name in [\"p\", \"a\"] or \"h\" in child.name else None  # Text if no further children\n",
    "            })\n",
    "    return result"
   ]
  },
  {
   "cell_type": "markdown",
   "metadata": {},
   "source": [
    "## 2. Scrape This Site"
   ]
  },
  {
   "cell_type": "code",
   "execution_count": 74,
   "metadata": {},
   "outputs": [],
   "source": [
    "url = \"https://www.scrapethissite.com\""
   ]
  },
  {
   "cell_type": "markdown",
   "metadata": {},
   "source": [
    "### 2.1 Extract Page"
   ]
  },
  {
   "cell_type": "code",
   "execution_count": 75,
   "metadata": {},
   "outputs": [],
   "source": [
    "data = requests.get(f\"{url}/pages\")\n",
    "soup = BeautifulSoup(data.content, \"html.parser\")"
   ]
  },
  {
   "cell_type": "code",
   "execution_count": 76,
   "metadata": {},
   "outputs": [],
   "source": [
    "pages = [\n",
    "    {\n",
    "        \"link\": page.find(\"a\")[\"href\"],\n",
    "        \"title\": page.find(\"a\").get_text(strip=True),\n",
    "        \"description\": page.find(\"p\").get_text(strip=True),\n",
    "    }\n",
    "    for page in soup.find_all(\"div\", \"page\")\n",
    "]"
   ]
  },
  {
   "cell_type": "code",
   "execution_count": 77,
   "metadata": {},
   "outputs": [],
   "source": [
    "pages_df = pd.DataFrame(pages)"
   ]
  },
  {
   "cell_type": "code",
   "execution_count": 78,
   "metadata": {},
   "outputs": [
    {
     "data": {
      "text/html": [
       "<div>\n",
       "<style scoped>\n",
       "    .dataframe tbody tr th:only-of-type {\n",
       "        vertical-align: middle;\n",
       "    }\n",
       "\n",
       "    .dataframe tbody tr th {\n",
       "        vertical-align: top;\n",
       "    }\n",
       "\n",
       "    .dataframe thead th {\n",
       "        text-align: right;\n",
       "    }\n",
       "</style>\n",
       "<table border=\"1\" class=\"dataframe\">\n",
       "  <thead>\n",
       "    <tr style=\"text-align: right;\">\n",
       "      <th></th>\n",
       "      <th>link</th>\n",
       "      <th>title</th>\n",
       "      <th>description</th>\n",
       "    </tr>\n",
       "  </thead>\n",
       "  <tbody>\n",
       "    <tr>\n",
       "      <th>0</th>\n",
       "      <td>/pages/simple/</td>\n",
       "      <td>Countries of the World: A Simple Example</td>\n",
       "      <td>A single page that lists information about all...</td>\n",
       "    </tr>\n",
       "    <tr>\n",
       "      <th>1</th>\n",
       "      <td>/pages/forms/</td>\n",
       "      <td>Hockey Teams: Forms, Searching and Pagination</td>\n",
       "      <td>Browse through a database of NHL team stats si...</td>\n",
       "    </tr>\n",
       "    <tr>\n",
       "      <th>2</th>\n",
       "      <td>/pages/ajax-javascript/</td>\n",
       "      <td>Oscar Winning Films: AJAX and Javascript</td>\n",
       "      <td>Click through a bunch of great films. Learn ho...</td>\n",
       "    </tr>\n",
       "    <tr>\n",
       "      <th>3</th>\n",
       "      <td>/pages/frames/</td>\n",
       "      <td>Turtles All the Way Down: Frames &amp; iFrames</td>\n",
       "      <td>Some older sites might still use frames to bre...</td>\n",
       "    </tr>\n",
       "    <tr>\n",
       "      <th>4</th>\n",
       "      <td>/pages/advanced/</td>\n",
       "      <td>Advanced Topics: Real World Challenges You'll ...</td>\n",
       "      <td>Scraping real websites, you're likely run into...</td>\n",
       "    </tr>\n",
       "  </tbody>\n",
       "</table>\n",
       "</div>"
      ],
      "text/plain": [
       "                      link                                              title  \\\n",
       "0           /pages/simple/           Countries of the World: A Simple Example   \n",
       "1            /pages/forms/      Hockey Teams: Forms, Searching and Pagination   \n",
       "2  /pages/ajax-javascript/           Oscar Winning Films: AJAX and Javascript   \n",
       "3           /pages/frames/         Turtles All the Way Down: Frames & iFrames   \n",
       "4         /pages/advanced/  Advanced Topics: Real World Challenges You'll ...   \n",
       "\n",
       "                                         description  \n",
       "0  A single page that lists information about all...  \n",
       "1  Browse through a database of NHL team stats si...  \n",
       "2  Click through a bunch of great films. Learn ho...  \n",
       "3  Some older sites might still use frames to bre...  \n",
       "4  Scraping real websites, you're likely run into...  "
      ]
     },
     "execution_count": 78,
     "metadata": {},
     "output_type": "execute_result"
    }
   ],
   "source": [
    "pages_df.head()"
   ]
  },
  {
   "cell_type": "markdown",
   "metadata": {},
   "source": [
    "### 2.2 Countries of the World: A Simple Example"
   ]
  },
  {
   "cell_type": "code",
   "execution_count": 79,
   "metadata": {},
   "outputs": [],
   "source": [
    "data = requests.get(f\"{url}/pages/simple/\")\n",
    "soup = BeautifulSoup(data.content, \"html.parser\")"
   ]
  },
  {
   "cell_type": "code",
   "execution_count": 80,
   "metadata": {},
   "outputs": [],
   "source": [
    "list_country = [\n",
    "    {\n",
    "        \"name\": country.find(\"h3\").get_text(strip=True),\n",
    "        \"capital\": country.find(\"span\", \"country-capital\").get_text(strip=True),\n",
    "        \"population\": int(\n",
    "            country.find(\"span\", \"country-population\").get_text(strip=True)\n",
    "        ),\n",
    "        \"area\": float(country.find(\"span\", \"country-area\").get_text(strip=True)),\n",
    "    }\n",
    "    for country in soup.find_all(\"div\", \"col-md-4 country\")\n",
    "]"
   ]
  },
  {
   "cell_type": "code",
   "execution_count": 81,
   "metadata": {},
   "outputs": [],
   "source": [
    "list_country_df = pd.DataFrame(list_country)"
   ]
  },
  {
   "cell_type": "code",
   "execution_count": 82,
   "metadata": {},
   "outputs": [
    {
     "data": {
      "text/html": [
       "<div>\n",
       "<style scoped>\n",
       "    .dataframe tbody tr th:only-of-type {\n",
       "        vertical-align: middle;\n",
       "    }\n",
       "\n",
       "    .dataframe tbody tr th {\n",
       "        vertical-align: top;\n",
       "    }\n",
       "\n",
       "    .dataframe thead th {\n",
       "        text-align: right;\n",
       "    }\n",
       "</style>\n",
       "<table border=\"1\" class=\"dataframe\">\n",
       "  <thead>\n",
       "    <tr style=\"text-align: right;\">\n",
       "      <th></th>\n",
       "      <th>name</th>\n",
       "      <th>capital</th>\n",
       "      <th>population</th>\n",
       "      <th>area</th>\n",
       "    </tr>\n",
       "  </thead>\n",
       "  <tbody>\n",
       "    <tr>\n",
       "      <th>0</th>\n",
       "      <td>Andorra</td>\n",
       "      <td>Andorra la Vella</td>\n",
       "      <td>84000</td>\n",
       "      <td>468.0</td>\n",
       "    </tr>\n",
       "    <tr>\n",
       "      <th>1</th>\n",
       "      <td>United Arab Emirates</td>\n",
       "      <td>Abu Dhabi</td>\n",
       "      <td>4975593</td>\n",
       "      <td>82880.0</td>\n",
       "    </tr>\n",
       "    <tr>\n",
       "      <th>2</th>\n",
       "      <td>Afghanistan</td>\n",
       "      <td>Kabul</td>\n",
       "      <td>29121286</td>\n",
       "      <td>647500.0</td>\n",
       "    </tr>\n",
       "    <tr>\n",
       "      <th>3</th>\n",
       "      <td>Antigua and Barbuda</td>\n",
       "      <td>St. John's</td>\n",
       "      <td>86754</td>\n",
       "      <td>443.0</td>\n",
       "    </tr>\n",
       "    <tr>\n",
       "      <th>4</th>\n",
       "      <td>Anguilla</td>\n",
       "      <td>The Valley</td>\n",
       "      <td>13254</td>\n",
       "      <td>102.0</td>\n",
       "    </tr>\n",
       "  </tbody>\n",
       "</table>\n",
       "</div>"
      ],
      "text/plain": [
       "                   name           capital  population      area\n",
       "0               Andorra  Andorra la Vella       84000     468.0\n",
       "1  United Arab Emirates         Abu Dhabi     4975593   82880.0\n",
       "2           Afghanistan             Kabul    29121286  647500.0\n",
       "3   Antigua and Barbuda        St. John's       86754     443.0\n",
       "4              Anguilla        The Valley       13254     102.0"
      ]
     },
     "execution_count": 82,
     "metadata": {},
     "output_type": "execute_result"
    }
   ],
   "source": [
    "list_country_df.head()"
   ]
  },
  {
   "cell_type": "markdown",
   "metadata": {},
   "source": [
    "### 2.3 Hockey Teams: Forms, Searching and Pagination"
   ]
  },
  {
   "cell_type": "code",
   "execution_count": 136,
   "metadata": {},
   "outputs": [],
   "source": [
    "page_num = 1\n",
    "item_per_page = list_teams_per_page = 100"
   ]
  },
  {
   "cell_type": "code",
   "execution_count": 137,
   "metadata": {},
   "outputs": [],
   "source": [
    "list_teams = []\n",
    "while list_teams_per_page == item_per_page:\n",
    "    data = requests.get(\n",
    "        f\"{url}/pages/forms/?page_num={page_num}&per_page={item_per_page}\"\n",
    "    )\n",
    "    soup = BeautifulSoup(data.content, \"html.parser\")\n",
    "    list_teams_page = [\n",
    "        {\n",
    "            \"name\": team.find(\"td\", \"name\").get_text(strip=True),\n",
    "            \"year\": int(team.find(\"td\", \"year\").get_text(strip=True)),\n",
    "            \"wins\": int(team.find(\"td\", \"wins\").get_text(strip=True)),\n",
    "            \"losses\": int(team.find(\"td\", \"losses\").get_text(strip=True)),\n",
    "            \"ot-losses\": team.find(\"td\", \"ot-losses\").get_text(strip=True) ,\n",
    "            \"win-pct\": float(team.find(\"td\", \"pct\").get_text(strip=True)),\n",
    "            \"gf\": int(team.find(\"td\", \"gf\").get_text(strip=True)),\n",
    "            \"ga\": int(team.find(\"td\", \"ga\").get_text(strip=True)),\n",
    "            \"diff\": int(team.find(\"td\", \"diff\").get_text(strip=True)),\n",
    "        }\n",
    "        for team in soup.find_all(\"tr\", \"team\")\n",
    "    ]\n",
    "    list_teams.extend(list_teams_page)\n",
    "    list_teams_per_page = len(list_teams_page)\n",
    "    page_num += 1"
   ]
  },
  {
   "cell_type": "code",
   "execution_count": 138,
   "metadata": {},
   "outputs": [],
   "source": [
    "list_teams_df = pd.DataFrame(list_teams)"
   ]
  },
  {
   "cell_type": "code",
   "execution_count": 139,
   "metadata": {},
   "outputs": [
    {
     "data": {
      "text/html": [
       "<div>\n",
       "<style scoped>\n",
       "    .dataframe tbody tr th:only-of-type {\n",
       "        vertical-align: middle;\n",
       "    }\n",
       "\n",
       "    .dataframe tbody tr th {\n",
       "        vertical-align: top;\n",
       "    }\n",
       "\n",
       "    .dataframe thead th {\n",
       "        text-align: right;\n",
       "    }\n",
       "</style>\n",
       "<table border=\"1\" class=\"dataframe\">\n",
       "  <thead>\n",
       "    <tr style=\"text-align: right;\">\n",
       "      <th></th>\n",
       "      <th>name</th>\n",
       "      <th>year</th>\n",
       "      <th>wins</th>\n",
       "      <th>losses</th>\n",
       "      <th>ot-losses</th>\n",
       "      <th>win-pct</th>\n",
       "      <th>gf</th>\n",
       "      <th>ga</th>\n",
       "      <th>diff</th>\n",
       "    </tr>\n",
       "  </thead>\n",
       "  <tbody>\n",
       "    <tr>\n",
       "      <th>577</th>\n",
       "      <td>Tampa Bay Lightning</td>\n",
       "      <td>2011</td>\n",
       "      <td>38</td>\n",
       "      <td>36</td>\n",
       "      <td>8</td>\n",
       "      <td>0.463</td>\n",
       "      <td>235</td>\n",
       "      <td>281</td>\n",
       "      <td>-46</td>\n",
       "    </tr>\n",
       "    <tr>\n",
       "      <th>578</th>\n",
       "      <td>Toronto Maple Leafs</td>\n",
       "      <td>2011</td>\n",
       "      <td>35</td>\n",
       "      <td>37</td>\n",
       "      <td>10</td>\n",
       "      <td>0.427</td>\n",
       "      <td>231</td>\n",
       "      <td>264</td>\n",
       "      <td>-33</td>\n",
       "    </tr>\n",
       "    <tr>\n",
       "      <th>579</th>\n",
       "      <td>Vancouver Canucks</td>\n",
       "      <td>2011</td>\n",
       "      <td>51</td>\n",
       "      <td>22</td>\n",
       "      <td>9</td>\n",
       "      <td>0.622</td>\n",
       "      <td>249</td>\n",
       "      <td>198</td>\n",
       "      <td>51</td>\n",
       "    </tr>\n",
       "    <tr>\n",
       "      <th>580</th>\n",
       "      <td>Washington Capitals</td>\n",
       "      <td>2011</td>\n",
       "      <td>42</td>\n",
       "      <td>32</td>\n",
       "      <td>8</td>\n",
       "      <td>0.512</td>\n",
       "      <td>222</td>\n",
       "      <td>230</td>\n",
       "      <td>-8</td>\n",
       "    </tr>\n",
       "    <tr>\n",
       "      <th>581</th>\n",
       "      <td>Winnipeg Jets</td>\n",
       "      <td>2011</td>\n",
       "      <td>37</td>\n",
       "      <td>35</td>\n",
       "      <td>10</td>\n",
       "      <td>0.451</td>\n",
       "      <td>225</td>\n",
       "      <td>246</td>\n",
       "      <td>-21</td>\n",
       "    </tr>\n",
       "  </tbody>\n",
       "</table>\n",
       "</div>"
      ],
      "text/plain": [
       "                    name  year  wins  losses ot-losses  win-pct   gf   ga  \\\n",
       "577  Tampa Bay Lightning  2011    38      36         8    0.463  235  281   \n",
       "578  Toronto Maple Leafs  2011    35      37        10    0.427  231  264   \n",
       "579    Vancouver Canucks  2011    51      22         9    0.622  249  198   \n",
       "580  Washington Capitals  2011    42      32         8    0.512  222  230   \n",
       "581        Winnipeg Jets  2011    37      35        10    0.451  225  246   \n",
       "\n",
       "     diff  \n",
       "577   -46  \n",
       "578   -33  \n",
       "579    51  \n",
       "580    -8  \n",
       "581   -21  "
      ]
     },
     "execution_count": 139,
     "metadata": {},
     "output_type": "execute_result"
    }
   ],
   "source": [
    "list_teams_df.tail()"
   ]
  },
  {
   "cell_type": "markdown",
   "metadata": {},
   "source": [
    "## 3. Oscar Winning Films: AJAX and Javascript"
   ]
  },
  {
   "cell_type": "code",
   "execution_count": 147,
   "metadata": {},
   "outputs": [],
   "source": [
    "url = \"https://www.scrapethissite.com/pages/ajax-javascript\""
   ]
  },
  {
   "cell_type": "markdown",
   "metadata": {},
   "source": [
    "### 3.1 Extract Oscar year"
   ]
  },
  {
   "cell_type": "code",
   "execution_count": 148,
   "metadata": {},
   "outputs": [],
   "source": [
    "data = requests.get(url)\n",
    "soup = BeautifulSoup(data.content, \"html.parser\")"
   ]
  },
  {
   "cell_type": "code",
   "execution_count": 149,
   "metadata": {},
   "outputs": [],
   "source": [
    "oscar_years = [year.get_text(strip=True) for year in soup.find_all(\"a\", \"year-link\")]"
   ]
  },
  {
   "cell_type": "code",
   "execution_count": 150,
   "metadata": {},
   "outputs": [
    {
     "data": {
      "text/plain": [
       "['2015', '2014', '2013', '2012', '2011', '2010']"
      ]
     },
     "execution_count": 150,
     "metadata": {},
     "output_type": "execute_result"
    }
   ],
   "source": [
    "oscar_years"
   ]
  },
  {
   "cell_type": "markdown",
   "metadata": {},
   "source": [
    "### 3.2 Extract Nominate Movies "
   ]
  },
  {
   "cell_type": "code",
   "execution_count": 166,
   "metadata": {},
   "outputs": [],
   "source": [
    "list_movies = []\n",
    "for year in oscar_years:\n",
    "    data = requests.get(f\"{url}/?ajax=true&year={year}\")\n",
    "    list_movies.extend(data.json())"
   ]
  },
  {
   "cell_type": "code",
   "execution_count": 168,
   "metadata": {},
   "outputs": [],
   "source": [
    "list_movies_df = pd.DataFrame(list_movies)"
   ]
  },
  {
   "cell_type": "code",
   "execution_count": 169,
   "metadata": {},
   "outputs": [
    {
     "data": {
      "text/html": [
       "<div>\n",
       "<style scoped>\n",
       "    .dataframe tbody tr th:only-of-type {\n",
       "        vertical-align: middle;\n",
       "    }\n",
       "\n",
       "    .dataframe tbody tr th {\n",
       "        vertical-align: top;\n",
       "    }\n",
       "\n",
       "    .dataframe thead th {\n",
       "        text-align: right;\n",
       "    }\n",
       "</style>\n",
       "<table border=\"1\" class=\"dataframe\">\n",
       "  <thead>\n",
       "    <tr style=\"text-align: right;\">\n",
       "      <th></th>\n",
       "      <th>title</th>\n",
       "      <th>year</th>\n",
       "      <th>awards</th>\n",
       "      <th>nominations</th>\n",
       "      <th>best_picture</th>\n",
       "    </tr>\n",
       "  </thead>\n",
       "  <tbody>\n",
       "    <tr>\n",
       "      <th>0</th>\n",
       "      <td>Spotlight</td>\n",
       "      <td>2015</td>\n",
       "      <td>2</td>\n",
       "      <td>6</td>\n",
       "      <td>True</td>\n",
       "    </tr>\n",
       "    <tr>\n",
       "      <th>1</th>\n",
       "      <td>Mad Max: Fury Road</td>\n",
       "      <td>2015</td>\n",
       "      <td>6</td>\n",
       "      <td>10</td>\n",
       "      <td>NaN</td>\n",
       "    </tr>\n",
       "    <tr>\n",
       "      <th>2</th>\n",
       "      <td>The Revenant</td>\n",
       "      <td>2015</td>\n",
       "      <td>3</td>\n",
       "      <td>12</td>\n",
       "      <td>NaN</td>\n",
       "    </tr>\n",
       "    <tr>\n",
       "      <th>3</th>\n",
       "      <td>Bridge of Spies</td>\n",
       "      <td>2015</td>\n",
       "      <td>1</td>\n",
       "      <td>6</td>\n",
       "      <td>NaN</td>\n",
       "    </tr>\n",
       "    <tr>\n",
       "      <th>4</th>\n",
       "      <td>The Big Short</td>\n",
       "      <td>2015</td>\n",
       "      <td>1</td>\n",
       "      <td>5</td>\n",
       "      <td>NaN</td>\n",
       "    </tr>\n",
       "  </tbody>\n",
       "</table>\n",
       "</div>"
      ],
      "text/plain": [
       "                 title  year  awards  nominations best_picture\n",
       "0          Spotlight    2015       2            6         True\n",
       "1  Mad Max: Fury Road   2015       6           10          NaN\n",
       "2      The Revenant     2015       3           12          NaN\n",
       "3      Bridge of Spies  2015       1            6          NaN\n",
       "4      The Big Short    2015       1            5          NaN"
      ]
     },
     "execution_count": 169,
     "metadata": {},
     "output_type": "execute_result"
    }
   ],
   "source": [
    "list_movies_df.head()"
   ]
  },
  {
   "cell_type": "markdown",
   "metadata": {},
   "source": [
    "## 4. Turtles All the Way Down: Frames & iFrames"
   ]
  },
  {
   "cell_type": "code",
   "execution_count": 200,
   "metadata": {},
   "outputs": [],
   "source": [
    "base_url = \"https://www.scrapethissite.com\"\n",
    "frame_endpoint = \"/pages/frames\""
   ]
  },
  {
   "cell_type": "code",
   "execution_count": 201,
   "metadata": {},
   "outputs": [],
   "source": [
    "data = requests.get(f\"{base_url}{frame_endpoint}\")\n",
    "soup = BeautifulSoup(data.content, \"html.parser\")"
   ]
  },
  {
   "cell_type": "code",
   "execution_count": 202,
   "metadata": {},
   "outputs": [],
   "source": [
    "iframe_endpoint = soup.find(\"iframe\").get(\"src\")"
   ]
  },
  {
   "cell_type": "code",
   "execution_count": 220,
   "metadata": {},
   "outputs": [],
   "source": [
    "data = requests.get(f\"{base_url}{iframe_endpoint}\")\n",
    "soup = BeautifulSoup(data.content, \"html.parser\")"
   ]
  },
  {
   "cell_type": "code",
   "execution_count": 221,
   "metadata": {},
   "outputs": [],
   "source": [
    "list_turtles = []\n",
    "for turtle in soup(\"div\", \"col-md-4 turtle-family-card\"):\n",
    "    detail_data = requests.get(f\"{base_url}{turtle.find('a').get('href')}\")\n",
    "    detail_data_soup = BeautifulSoup(detail_data.content, \"html.parser\")\n",
    "    list_turtles.append(\n",
    "        {\n",
    "            \"image\": turtle.find(\"img\").get(\"src\"),\n",
    "            \"name\": turtle.find(\"h3\").get_text(strip=True),\n",
    "            \"description\": detail_data_soup.find(\"p\").get_text().strip(),\n",
    "        }\n",
    "    )"
   ]
  },
  {
   "cell_type": "code",
   "execution_count": 224,
   "metadata": {},
   "outputs": [],
   "source": [
    "list_turtles_df = pd.DataFrame(list_turtles)"
   ]
  },
  {
   "cell_type": "code",
   "execution_count": 225,
   "metadata": {},
   "outputs": [
    {
     "data": {
      "text/html": [
       "<div>\n",
       "<style scoped>\n",
       "    .dataframe tbody tr th:only-of-type {\n",
       "        vertical-align: middle;\n",
       "    }\n",
       "\n",
       "    .dataframe tbody tr th {\n",
       "        vertical-align: top;\n",
       "    }\n",
       "\n",
       "    .dataframe thead th {\n",
       "        text-align: right;\n",
       "    }\n",
       "</style>\n",
       "<table border=\"1\" class=\"dataframe\">\n",
       "  <thead>\n",
       "    <tr style=\"text-align: right;\">\n",
       "      <th></th>\n",
       "      <th>image</th>\n",
       "      <th>name</th>\n",
       "      <th>description</th>\n",
       "    </tr>\n",
       "  </thead>\n",
       "  <tbody>\n",
       "    <tr>\n",
       "      <th>0</th>\n",
       "      <td>https://upload.wikimedia.org/wikipedia/commons...</td>\n",
       "      <td>Carettochelyidae</td>\n",
       "      <td>The Carettochelyidae family of turtles — more ...</td>\n",
       "    </tr>\n",
       "    <tr>\n",
       "      <th>1</th>\n",
       "      <td>https://upload.wikimedia.org/wikipedia/commons...</td>\n",
       "      <td>Cheloniidae</td>\n",
       "      <td>The Cheloniidae family of turtles — more commo...</td>\n",
       "    </tr>\n",
       "    <tr>\n",
       "      <th>2</th>\n",
       "      <td>https://upload.wikimedia.org/wikipedia/commons...</td>\n",
       "      <td>Chelydridae</td>\n",
       "      <td>The Chelydridae family of turtles — more commo...</td>\n",
       "    </tr>\n",
       "    <tr>\n",
       "      <th>3</th>\n",
       "      <td>https://upload.wikimedia.org/wikipedia/commons...</td>\n",
       "      <td>Dermatemydidae</td>\n",
       "      <td>The Dermatemydidae family of turtles — more co...</td>\n",
       "    </tr>\n",
       "    <tr>\n",
       "      <th>4</th>\n",
       "      <td>https://upload.wikimedia.org/wikipedia/commons...</td>\n",
       "      <td>Dermochelyidae</td>\n",
       "      <td>The Dermochelyidae family of turtles — more co...</td>\n",
       "    </tr>\n",
       "  </tbody>\n",
       "</table>\n",
       "</div>"
      ],
      "text/plain": [
       "                                               image              name  \\\n",
       "0  https://upload.wikimedia.org/wikipedia/commons...  Carettochelyidae   \n",
       "1  https://upload.wikimedia.org/wikipedia/commons...       Cheloniidae   \n",
       "2  https://upload.wikimedia.org/wikipedia/commons...       Chelydridae   \n",
       "3  https://upload.wikimedia.org/wikipedia/commons...    Dermatemydidae   \n",
       "4  https://upload.wikimedia.org/wikipedia/commons...    Dermochelyidae   \n",
       "\n",
       "                                         description  \n",
       "0  The Carettochelyidae family of turtles — more ...  \n",
       "1  The Cheloniidae family of turtles — more commo...  \n",
       "2  The Chelydridae family of turtles — more commo...  \n",
       "3  The Dermatemydidae family of turtles — more co...  \n",
       "4  The Dermochelyidae family of turtles — more co...  "
      ]
     },
     "execution_count": 225,
     "metadata": {},
     "output_type": "execute_result"
    }
   ],
   "source": [
    "list_turtles_df.head()"
   ]
  },
  {
   "cell_type": "code",
   "execution_count": null,
   "metadata": {},
   "outputs": [],
   "source": []
  }
 ],
 "metadata": {
  "kernelspec": {
   "display_name": "Python 3 (ipykernel)",
   "language": "python",
   "name": "python3"
  },
  "language_info": {
   "codemirror_mode": {
    "name": "ipython",
    "version": 3
   },
   "file_extension": ".py",
   "mimetype": "text/x-python",
   "name": "python",
   "nbconvert_exporter": "python",
   "pygments_lexer": "ipython3",
   "version": "3.13.0"
  }
 },
 "nbformat": 4,
 "nbformat_minor": 2
}
